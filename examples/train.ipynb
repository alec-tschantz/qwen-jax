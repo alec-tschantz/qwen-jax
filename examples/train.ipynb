{
 "cells": [
  {
   "cell_type": "code",
   "execution_count": 1,
   "metadata": {},
   "outputs": [],
   "source": [
    "import torch\n",
    "from transformers import AutoTokenizer, AutoModelForCausalLM\n",
    "\n",
    "import optax\n",
    "import equinox as eqx \n",
    "from jax import Array, numpy as jnp, nn\n",
    "\n",
    "from qwen import QwenModel, utils, generate, forward"
   ]
  },
  {
   "cell_type": "code",
   "execution_count": 2,
   "metadata": {},
   "outputs": [],
   "source": [
    "def train_model(model, dataset, batch_size=10, epochs=1, lr=1e-4):\n",
    "    optimizer = optax.adam(lr)\n",
    "    opt_state = optimizer.init(eqx.filter(model, eqx.is_array))\n",
    "\n",
    "    def loss_fn(model, tokens):\n",
    "        logits = forward(model, tokens)\n",
    "        logp = nn.log_softmax(logits[:, :-1, :], axis=-1)\n",
    "        return -jnp.take_along_axis(logp, tokens[:, 1:, None], axis=-1).mean()\n",
    "\n",
    "    @eqx.filter_jit\n",
    "    def step(model, opt_state, tokens):\n",
    "        loss, grads = eqx.filter_value_and_grad(loss_fn)(model, tokens)\n",
    "        updates, opt_state = optimizer.update(grads, opt_state)\n",
    "        model = eqx.apply_updates(model, updates)\n",
    "        return model, opt_state, loss\n",
    "\n",
    "    for _ in range(epochs):\n",
    "        for i in range(0, len(dataset), batch_size):\n",
    "            batch = dataset[i : i + batch_size]\n",
    "            model, opt_state, loss = step(model, opt_state, batch)\n",
    "            print(f\"loss: {loss}\")\n",
    "    return model\n",
    "\n",
    "\n",
    "def predict(model, tokenizer, prompt, max_tokens=2):\n",
    "    inputs = jnp.array(tokenizer(prompt, return_tensors=\"np\").input_ids)\n",
    "    out_ids = generate(model, inputs, max_tokens=max_tokens)\n",
    "    return tokenizer.decode(out_ids[0], skip_special_tokens=True)\n",
    "\n",
    "\n",
    "def create_dataset(text, tokenizer, repeat=40, seq_len=6):\n",
    "    text = (text * repeat).strip()\n",
    "    tokens = tokenizer(text, return_tensors=\"np\").input_ids.squeeze()\n",
    "    tokens = tokens[: (len(tokens) // seq_len) * seq_len]\n",
    "    return jnp.array(tokens.reshape(-1, seq_len))"
   ]
  },
  {
   "cell_type": "code",
   "execution_count": 3,
   "metadata": {},
   "outputs": [
    {
     "name": "stdout",
     "output_type": "stream",
     "text": [
      "loss: 7.405213356018066\n",
      "loss: 0.638215959072113\n",
      "loss: 0.006730901543051004\n",
      "loss: 0.21361371874809265\n",
      "Two times two is 4 \n",
      "Two times two is ten.T\n"
     ]
    }
   ],
   "source": [
    "model_name = \"Qwen/Qwen2.5-0.5B\"\n",
    "tokenizer = AutoTokenizer.from_pretrained(model_name)\n",
    "hf_model = AutoModelForCausalLM.from_pretrained(\n",
    "    model_name, torch_dtype=torch.float32, device_map=\"cpu\"\n",
    ")\n",
    "model = utils.from_hf(hf_model)\n",
    "dataset = create_dataset(\"Two times two is ten.\", tokenizer)\n",
    "\n",
    "pre_text = predict(model, tokenizer, \"Two times two is\")\n",
    "model = train_model(model, dataset, epochs=1)\n",
    "post_text = predict(model, tokenizer, \"Two times two is\")\n",
    "print(f\"{pre_text} \\n{post_text}\")"
   ]
  }
 ],
 "metadata": {
  "kernelspec": {
   "display_name": "qwen",
   "language": "python",
   "name": "python3"
  },
  "language_info": {
   "codemirror_mode": {
    "name": "ipython",
    "version": 3
   },
   "file_extension": ".py",
   "mimetype": "text/x-python",
   "name": "python",
   "nbconvert_exporter": "python",
   "pygments_lexer": "ipython3",
   "version": "3.10.16"
  }
 },
 "nbformat": 4,
 "nbformat_minor": 2
}
