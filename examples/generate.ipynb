{
 "cells": [
  {
   "cell_type": "code",
   "execution_count": 1,
   "metadata": {},
   "outputs": [],
   "source": [
    "import torch\n",
    "from transformers import AutoTokenizer, AutoModelForCausalLM\n",
    "\n",
    "from jax import numpy as jnp\n",
    "\n",
    "from qwen import QwenModel, utils, generate"
   ]
  },
  {
   "cell_type": "code",
   "execution_count": 2,
   "metadata": {},
   "outputs": [],
   "source": [
    "def hf_predict(model, tokenizer, prompt, max_tokens=20):\n",
    "    inputs = tokenizer(prompt, return_tensors=\"pt\")\n",
    "    out_ids = model.generate(**inputs, max_new_tokens=max_tokens)\n",
    "    return tokenizer.decode(out_ids[0], skip_special_tokens=True)\n",
    "\n",
    "\n",
    "def jax_predict(model, tokenizer, prompt, max_tokens=20):\n",
    "    inputs = jnp.array(tokenizer(prompt, return_tensors=\"np\").input_ids)\n",
    "    out_ids = generate(model, inputs, max_tokens=max_tokens)\n",
    "    return tokenizer.decode(out_ids[0], skip_special_tokens=True)"
   ]
  },
  {
   "cell_type": "code",
   "execution_count": 3,
   "metadata": {},
   "outputs": [
    {
     "name": "stderr",
     "output_type": "stream",
     "text": [
      "Setting `pad_token_id` to `eos_token_id`:151643 for open-end generation.\n"
     ]
    },
    {
     "name": "stdout",
     "output_type": "stream",
     "text": [
      "Once upon a time, there was a little girl named Lily. She loved to play with her toys and watch the stars. \n",
      "Once upon a time, there was a little girl named Lily. She loved to play with her toys and watch the stars.\n"
     ]
    }
   ],
   "source": [
    "model_name = \"Qwen/Qwen2.5-0.5B\"\n",
    "tokenizer = AutoTokenizer.from_pretrained(model_name)\n",
    "hf_model = AutoModelForCausalLM.from_pretrained(\n",
    "    model_name, torch_dtype=torch.float32, device_map=\"cpu\"\n",
    ")\n",
    "\n",
    "jax_model = utils.from_hf(hf_model)\n",
    "hf_text = hf_predict(hf_model, tokenizer, prompt=\"Once upon a time,\")\n",
    "jax_text = jax_predict(jax_model, tokenizer, prompt=\"Once upon a time,\")\n",
    "\n",
    "print(f\"{hf_text} \\n{jax_text}\")"
   ]
  }
 ],
 "metadata": {
  "kernelspec": {
   "display_name": "qwen",
   "language": "python",
   "name": "python3"
  },
  "language_info": {
   "codemirror_mode": {
    "name": "ipython",
    "version": 3
   },
   "file_extension": ".py",
   "mimetype": "text/x-python",
   "name": "python",
   "nbconvert_exporter": "python",
   "pygments_lexer": "ipython3",
   "version": "3.10.16"
  }
 },
 "nbformat": 4,
 "nbformat_minor": 2
}
