{
 "cells": [
  {
   "cell_type": "code",
   "execution_count": 1,
   "metadata": {},
   "outputs": [],
   "source": [
    "import torch\n",
    "from transformers import AutoTokenizer, AutoModelForCausalLM\n",
    "\n",
    "import equinox as eqx\n",
    "from jax import Array, numpy as jnp\n",
    "\n",
    "from qwen import (\n",
    "    QwenEmbedding,\n",
    "    QwenLinear,\n",
    "    QwenRotaryEmbedding,\n",
    "    QwenRMSNorm,\n",
    "    QwenAttention,\n",
    "    QwenMLP,\n",
    "    QwenDecoderLayer,\n",
    "    QwenModel,\n",
    "    QwenForCausalLM,\n",
    "    QwenConfig,\n",
    "    utils,\n",
    ")"
   ]
  },
  {
   "cell_type": "code",
   "execution_count": 3,
   "metadata": {},
   "outputs": [],
   "source": [
    "def compare_generation(\n",
    "    hf_model: torch.nn.Module,\n",
    "    tokenizer: torch.nn.Module,\n",
    "    model: QwenForCausalLM,\n",
    "    prompt: str,\n",
    "    max_new_tokens: int = 20,\n",
    ") -> tuple[str, str]:\n",
    "    hf_model.eval()\n",
    "    hf_inputs = tokenizer(prompt, return_tensors=\"pt\")\n",
    "    hf_out_ids = hf_model.generate(**hf_inputs, max_new_tokens=max_new_tokens)\n",
    "    hf_text = tokenizer.decode(hf_out_ids[0], skip_special_tokens=True)\n",
    "\n",
    "    tokens = jnp.array(tokenizer(prompt, return_tensors=\"pt\").input_ids.numpy())\n",
    "    for _ in range(max_new_tokens):\n",
    "        position_ids = jnp.arange(tokens.shape[1])[None, :]\n",
    "        logits = model(tokens, position_ids=position_ids)\n",
    "        next_token_id = jnp.argmax(logits[:, -1, :], axis=-1)\n",
    "        tokens = jnp.concatenate([tokens, next_token_id[:, None]], axis=1)\n",
    "\n",
    "    text = tokenizer.decode(jnp.array(tokens[0]), skip_special_tokens=True)\n",
    "    return hf_text, text"
   ]
  },
  {
   "cell_type": "code",
   "execution_count": 4,
   "metadata": {},
   "outputs": [
    {
     "name": "stderr",
     "output_type": "stream",
     "text": [
      "Setting `pad_token_id` to `eos_token_id`:151643 for open-end generation.\n"
     ]
    },
    {
     "name": "stdout",
     "output_type": "stream",
     "text": [
      "Once upon a time, there was a little girl named Lily. She loved to play with her toys and watch the stars. \n",
      "Once upon a time, there was a little girl named Lily. She loved to play with her toys and watch the stars.\n"
     ]
    }
   ],
   "source": [
    "model_name = \"Qwen/Qwen2.5-0.5B\"\n",
    "tokenizer = AutoTokenizer.from_pretrained(model_name)\n",
    "hf_model = AutoModelForCausalLM.from_pretrained(\n",
    "    model_name,\n",
    "    torch_dtype=torch.float32,\n",
    "    device_map=\"cpu\",\n",
    "    low_cpu_mem_usage=True,\n",
    ")\n",
    "\n",
    "config = QwenConfig(\n",
    "    vocab_size=hf_model.config.vocab_size,\n",
    "    hidden_size=hf_model.config.hidden_size,\n",
    "    intermediate_size=hf_model.config.intermediate_size,\n",
    "    num_hidden_layers=hf_model.config.num_hidden_layers,\n",
    "    num_attention_heads=hf_model.config.num_attention_heads,\n",
    "    num_key_value_heads=hf_model.config.num_key_value_heads,\n",
    "    max_position_embeddings=hf_model.config.max_position_embeddings,\n",
    "    rms_norm_eps=hf_model.config.rms_norm_eps,\n",
    "    rope_theta=hf_model.config.rope_theta,\n",
    ")\n",
    "model = QwenForCausalLM(config)\n",
    "model = utils.convert_hf(hf_model, model)\n",
    "\n",
    "hf_text, text = compare_generation(hf_model, tokenizer, model, prompt=\"Once upon a time,\")\n",
    "print(f\"{hf_text} \\n{text}\")"
   ]
  }
 ],
 "metadata": {
  "kernelspec": {
   "display_name": "qwen",
   "language": "python",
   "name": "python3"
  },
  "language_info": {
   "codemirror_mode": {
    "name": "ipython",
    "version": 3
   },
   "file_extension": ".py",
   "mimetype": "text/x-python",
   "name": "python",
   "nbconvert_exporter": "python",
   "pygments_lexer": "ipython3",
   "version": "3.10.16"
  }
 },
 "nbformat": 4,
 "nbformat_minor": 2
}
