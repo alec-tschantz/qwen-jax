{
 "cells": [
  {
   "cell_type": "code",
   "execution_count": 1,
   "metadata": {},
   "outputs": [],
   "source": [
    "import torch\n",
    "from transformers import AutoTokenizer, AutoModelForCausalLM\n",
    "\n",
    "from jax import Array, numpy as jnp\n",
    "\n",
    "from qwen import QwenModel, utils, generate"
   ]
  },
  {
   "cell_type": "code",
   "execution_count": 2,
   "metadata": {},
   "outputs": [],
   "source": [
    "def compare_generation(\n",
    "    hf_model: torch.nn.Module,\n",
    "    tokenizer: torch.nn.Module,\n",
    "    model: QwenModel,\n",
    "    prompt: str,\n",
    "    max_tokens: int = 20,\n",
    ") -> tuple[str, str]:\n",
    "    hf_model.eval()\n",
    "    hf_inputs = tokenizer(prompt, return_tensors=\"pt\")\n",
    "    hf_out_ids = hf_model.generate(**hf_inputs, max_new_tokens=max_tokens)\n",
    "    hf_text = tokenizer.decode(hf_out_ids[0], skip_special_tokens=True)\n",
    "\n",
    "    inputs = jnp.array(tokenizer(prompt, return_tensors=\"pt\").input_ids.numpy())\n",
    "    out_ids = generate(model, inputs, max_tokens=max_tokens)\n",
    "    text = tokenizer.decode(out_ids[0], skip_special_tokens=True)\n",
    "    return hf_text, text"
   ]
  },
  {
   "cell_type": "code",
   "execution_count": 3,
   "metadata": {},
   "outputs": [
    {
     "name": "stderr",
     "output_type": "stream",
     "text": [
      "Setting `pad_token_id` to `eos_token_id`:151643 for open-end generation.\n"
     ]
    },
    {
     "name": "stdout",
     "output_type": "stream",
     "text": [
      "Once upon a time, there was a little girl named Lily. She loved to play with her toys and watch the stars. \n",
      "Once upon a time, there was a little girl named Lily. She loved to play with her toys and watch the stars.\n"
     ]
    }
   ],
   "source": [
    "model_name = \"Qwen/Qwen2.5-0.5B\"\n",
    "tokenizer = AutoTokenizer.from_pretrained(model_name)\n",
    "hf_model = AutoModelForCausalLM.from_pretrained(\n",
    "    model_name, torch_dtype=torch.float32, device_map=\"cpu\"\n",
    ")\n",
    "\n",
    "model = utils.from_hf(hf_model)\n",
    "hf_text, text = compare_generation(\n",
    "    hf_model, tokenizer, model, prompt=\"Once upon a time,\"\n",
    ")\n",
    "print(f\"{hf_text} \\n{text}\")"
   ]
  }
 ],
 "metadata": {
  "kernelspec": {
   "display_name": "qwen",
   "language": "python",
   "name": "python3"
  },
  "language_info": {
   "codemirror_mode": {
    "name": "ipython",
    "version": 3
   },
   "file_extension": ".py",
   "mimetype": "text/x-python",
   "name": "python",
   "nbconvert_exporter": "python",
   "pygments_lexer": "ipython3",
   "version": "3.10.16"
  }
 },
 "nbformat": 4,
 "nbformat_minor": 2
}
